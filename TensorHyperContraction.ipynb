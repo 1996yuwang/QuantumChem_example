{
 "cells": [
  {
   "attachments": {},
   "cell_type": "markdown",
   "metadata": {},
   "source": [
    "Implementation of Tensor Hypercontraction.\n",
    "\n",
    "Ref:  https://doi.org/10.1063/1.4768233"
   ]
  },
  {
   "attachments": {},
   "cell_type": "markdown",
   "metadata": {},
   "source": [
    "Motivation:\n",
    "to factorize the two-body integral $G_{pqrs}$ in a electronic Hamiltonian into:\n",
    "$$\n",
    "G_{pqrs} = \\sum ^ {M} _ {\\mu,  \\nu = 1} \\chi^{P}_p  \\chi^{P}_q Z^{PQ}  \\chi^{Q}_r \\chi^{Q}_s\n",
    "$$\n",
    "This is the so-called tensor hypercontraction (THC).\n",
    "\n",
    "In this notebook, all superscripts denote indices of grid points, indices are represented by capital letters P and Q."
   ]
  },
  {
   "cell_type": "code",
   "execution_count": 39,
   "metadata": {},
   "outputs": [],
   "source": [
    "import numpy as np\n",
    "from pyscf import gto, dft, lib, scf\n",
    "from pyscf.dft import numint\n",
    "from pyscf.dft import r_numint\n",
    "import copy"
   ]
  },
  {
   "cell_type": "code",
   "execution_count": 29,
   "metadata": {},
   "outputs": [],
   "source": [
    "#create the mole:\n",
    "#atom = '''H 0 0 0; H 0 0 0.735; O 0 0 1'''\n",
    "atom = '''H 0 0 0; H 0 0 0.735'''\n",
    "#atom = '''H 0 0 0; F 0 0 0.735'''\n",
    "\n",
    "#basis set:\n",
    "basis = 'sto-3g'\n",
    "#basis =\"6-31G\"\n",
    "unit = 'angstrom'\n",
    "charge = 0\n",
    "spin = 0\n",
    "verbose = 0\n",
    "\n",
    "mol = gto.Mole()\n",
    "mol.build(atom    = atom,\n",
    "          basis   = basis,\n",
    "          charge  = charge,\n",
    "          spin    = spin,\n",
    "          unit    = unit,\n",
    "          verbose = verbose)\n",
    "\n",
    "nmo, nao, natm = mol.nao, mol.nao, mol.natm"
   ]
  },
  {
   "cell_type": "code",
   "execution_count": 30,
   "metadata": {},
   "outputs": [],
   "source": [
    "mf = scf.RHF(mol)\n",
    "mf.kernel()\n",
    "coeff = mf.mo_coeff\n",
    "#g refers to the two-body term in AO basis\n",
    "#g_mo refers to the two-body term in MO basis\n",
    "g = mol.intor(\"int2e\")\n",
    "g_mo = np.einsum('pqrs,pi,qj,rk,sl->ijkl', g, coeff, coeff, coeff, coeff)"
   ]
  },
  {
   "cell_type": "code",
   "execution_count": 31,
   "metadata": {},
   "outputs": [],
   "source": [
    "#create the grids using pyscf\n",
    "grids = dft.Grids(mol)\n",
    "#here we choose the least dense grids set to speed up the caculaton.\n",
    "grids.atom_grid = (4, 14)\n",
    "#to improve the accuracy, you should choose dense grids setup.\n",
    "#grids.atom_grid =(75, 302)\n",
    "grids.build()\n",
    "coords = grids.coords\n",
    "#weight of each grid:\n",
    "weights = (grids.weights).reshape(grids.weights.size,1)\n",
    "#ao_value: the value of AO basis in each grid.\n",
    "ao_value = numint.eval_ao(mol, coords)"
   ]
  },
  {
   "attachments": {},
   "cell_type": "markdown",
   "metadata": {},
   "source": [
    "Weighted wave function for each grid:\n",
    "$$\n",
    "X^{P}_{\\mu}  = \\sqrt[4]{\\omega_P} R^{P}_{\\mu}\n",
    "$$\n",
    "where R is the ao_value. (in AO basis here)"
   ]
  },
  {
   "cell_type": "code",
   "execution_count": 32,
   "metadata": {},
   "outputs": [
    {
     "name": "stdout",
     "output_type": "stream",
     "text": [
      "(112, 2)\n"
     ]
    }
   ],
   "source": [
    "#generate_X (weights, R):\n",
    "def generate_X (weights_touse, R):\n",
    "    I_12 = np.ones([1,nao])\n",
    "    weights_reshape = np.dot(weights_touse, I_12)\n",
    "    print(weights_reshape.shape)\n",
    "    weights_scale = weights_reshape ** (1/4)\n",
    "    X = weights_scale * R\n",
    "    return (X)\n",
    "\n",
    "X = generate_X (weights, ao_value)\n"
   ]
  },
  {
   "attachments": {},
   "cell_type": "markdown",
   "metadata": {},
   "source": [
    "In MO basis:"
   ]
  },
  {
   "cell_type": "code",
   "execution_count": 33,
   "metadata": {},
   "outputs": [
    {
     "name": "stdout",
     "output_type": "stream",
     "text": [
      "(112, 2)\n"
     ]
    }
   ],
   "source": [
    "ao_value_mo = np.einsum(\"ui, gu -> gi\", coeff, ao_value)\n",
    "X_mo = generate_X (weights, ao_value_mo)\n"
   ]
  },
  {
   "attachments": {},
   "cell_type": "markdown",
   "metadata": {},
   "source": [
    "From now on, we will work on MO basis:"
   ]
  },
  {
   "attachments": {},
   "cell_type": "markdown",
   "metadata": {},
   "source": [
    "$$\n",
    "X^{P}_{ab} \\equiv X^{P}_{a} X^{P}_{b}\n",
    "$$\n",
    "$$\n",
    "S^{PP'} \\equiv X^{P}_{ab} X^{P'}_{ab}\n",
    "$$\n",
    "(all written in MO basis and use einstein sum here)"
   ]
  },
  {
   "cell_type": "code",
   "execution_count": 34,
   "metadata": {},
   "outputs": [],
   "source": [
    "X_two_ind_mo = np.zeros([grids.weights.size, nao, nao])\n",
    "for i in range (grids.weights.size):\n",
    "    for j in range (nao):\n",
    "        for k in range (nao):\n",
    "            X_two_ind_mo[i, j, k] = X_mo[i, j] * X_mo[i, k]\n",
    "\n",
    "space_metric_mo = np.einsum(\"acd, bcd -> ab\", X_two_ind_mo, X_two_ind_mo)"
   ]
  },
  {
   "attachments": {},
   "cell_type": "markdown",
   "metadata": {},
   "source": [
    "Using  spectral decomposition to get pseudoinverse of S:"
   ]
  },
  {
   "cell_type": "code",
   "execution_count": 35,
   "metadata": {},
   "outputs": [],
   "source": [
    "e_S, v_S = np.linalg.eig(space_metric_mo)\n",
    "number_nonzero = np.count_nonzero(e_S > 1e-8)\n",
    "pseudoinverse_mo = np.zeros([grids.weights.size, grids.weights.size], dtype = 'complex128')\n",
    "for i in range(number_nonzero):\n",
    "    v_S_reshape = v_S[:,i].reshape(grids.weights.size,1)\n",
    "    pseudoinverse_mo += (1/e_S[i]) * np.dot(v_S_reshape, v_S_reshape.transpose())\n",
    "\n",
    "space_metric_inverse_mo = pseudoinverse_mo\n"
   ]
  },
  {
   "attachments": {},
   "cell_type": "markdown",
   "metadata": {},
   "source": [
    "The pseudoinverse function in numpy is not  feasible as shown below. But anyway, the dimenstion of matrix $S$ is roughly only square of the size of system, so it will not be a issue to decompose matrix $S$."
   ]
  },
  {
   "cell_type": "code",
   "execution_count": 41,
   "metadata": {},
   "outputs": [
    {
     "data": {
      "text/plain": [
       "array([[-2.04324735e+13,  7.52119528e+12,  1.34372849e+13, ...,\n",
       "         4.21620778e+12,  1.86598955e+12,  5.18903644e+09],\n",
       "       [ 2.05095502e+15, -7.54956721e+14, -1.34879739e+15, ...,\n",
       "        -4.23211242e+14, -1.87302856e+14, -5.20861085e+11],\n",
       "       [ 3.26294809e+14, -1.20109148e+14, -2.14585685e+14, ...,\n",
       "        -6.73304046e+13, -2.97987762e+13, -8.28659169e+10],\n",
       "       ...,\n",
       "       [-6.84090765e+13,  2.51813870e+13,  4.49887896e+13, ...,\n",
       "         1.41161020e+13,  6.24743852e+12,  1.73731874e+10],\n",
       "       [ 1.32314511e+13, -4.87049830e+12, -8.70157879e+12, ...,\n",
       "        -2.73028847e+12, -1.20835833e+12, -3.36026286e+09],\n",
       "       [ 1.02178688e+11, -3.76119838e+10, -6.71971574e+10, ...,\n",
       "        -2.10844065e+10, -9.33143818e+09, -2.59493268e+07]])"
      ]
     },
     "execution_count": 41,
     "metadata": {},
     "output_type": "execute_result"
    }
   ],
   "source": [
    "np.linalg.pinv(space_metric_mo)"
   ]
  },
  {
   "attachments": {},
   "cell_type": "markdown",
   "metadata": {},
   "source": [
    "Equation A13 - A15 in the ref:\n",
    "$$\n",
    "E^{P'Q'} \\equiv X^{P'}_{pq} G_{pqrs} X^{Q'}_{rs}\n",
    "$$\n",
    "\n",
    "$$\n",
    "Z^{PQ} = [S^{P'P}]^{-1}  E^{P'Q'} [S^{Q'Q}]^{-1}\n",
    "$$\n",
    "\n",
    "$$\n",
    "G_{pqrs} \\approx  \\chi^{P}_p  \\chi^{P}_q Z^{P Q}  \\chi^{Q}_r \\chi^{Q}_s\n",
    "$$\n",
    "(in MO basis, using  einstein sum)"
   ]
  },
  {
   "cell_type": "code",
   "execution_count": 36,
   "metadata": {},
   "outputs": [],
   "source": [
    "E_mo = np.einsum('pab, abcd, qcd -> pq', X_two_ind_mo, g_mo, X_two_ind_mo)\n",
    "\n",
    "Z_mo = np.einsum(\"pa, ab, bq -> pq\", space_metric_inverse_mo, E_mo, space_metric_inverse_mo)\n",
    "\n",
    "g_THC_mo = np.einsum(\"pa, pb, pq, qc, qd -> abcd\", X_mo, X_mo, Z_mo, X_mo, X_mo)"
   ]
  },
  {
   "attachments": {},
   "cell_type": "markdown",
   "metadata": {},
   "source": [
    "Compare $G$ from THC and the real $G$:"
   ]
  },
  {
   "cell_type": "code",
   "execution_count": 37,
   "metadata": {},
   "outputs": [
    {
     "data": {
      "text/plain": [
       "1.9937472228287797e-14"
      ]
     },
     "execution_count": 37,
     "metadata": {},
     "output_type": "execute_result"
    }
   ],
   "source": [
    "np.linalg.norm(g_THC_mo - g_mo)"
   ]
  },
  {
   "cell_type": "markdown",
   "metadata": {},
   "source": []
  },
  {
   "cell_type": "code",
   "execution_count": 38,
   "metadata": {},
   "outputs": [
    {
     "data": {
      "text/plain": [
       "array([[[[-6.66133815e-16+0.j,  7.90704083e-16+0.j],\n",
       "         [ 7.97697187e-16+0.j, -8.88178420e-16+0.j]],\n",
       "\n",
       "        [[ 5.84581897e-15+0.j, -1.27675648e-15+0.j],\n",
       "         [-1.16573418e-15+0.j,  6.19101697e-15+0.j]]],\n",
       "\n",
       "\n",
       "       [[[ 5.90133012e-15+0.j, -1.36002321e-15+0.j],\n",
       "         [-1.22124533e-15+0.j,  6.19101697e-15+0.j]],\n",
       "\n",
       "        [[ 1.04360964e-14+0.j, -4.49216501e-16+0.j],\n",
       "         [-7.68405621e-16+0.j, -1.15463195e-14+0.j]]]])"
      ]
     },
     "execution_count": 38,
     "metadata": {},
     "output_type": "execute_result"
    }
   ],
   "source": [
    "g_THC_mo - g_mo"
   ]
  },
  {
   "attachments": {},
   "cell_type": "markdown",
   "metadata": {},
   "source": [
    "possible optimization:\n",
    "1. remove the grids with very small weights\n",
    "2. low-rank approx. in S matrix\n",
    "3. does pruning method matter?"
   ]
  },
  {
   "cell_type": "code",
   "execution_count": 43,
   "metadata": {},
   "outputs": [],
   "source": [
    "#you can try different cases by changing the molecule at the beginning of this notebook."
   ]
  },
  {
   "cell_type": "code",
   "execution_count": null,
   "metadata": {},
   "outputs": [],
   "source": []
  }
 ],
 "metadata": {
  "kernelspec": {
   "display_name": "base",
   "language": "python",
   "name": "python3"
  },
  "language_info": {
   "codemirror_mode": {
    "name": "ipython",
    "version": 3
   },
   "file_extension": ".py",
   "mimetype": "text/x-python",
   "name": "python",
   "nbconvert_exporter": "python",
   "pygments_lexer": "ipython3",
   "version": "3.8.13"
  },
  "orig_nbformat": 4,
  "vscode": {
   "interpreter": {
    "hash": "2778dcfafe32be17d7583118ddbefa74f34e4c202061ee3eaf97f1225daf2f59"
   }
  }
 },
 "nbformat": 4,
 "nbformat_minor": 2
}
