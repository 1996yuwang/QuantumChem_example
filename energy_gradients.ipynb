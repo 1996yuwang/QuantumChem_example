{
 "cells": [
  {
   "attachments": {},
   "cell_type": "markdown",
   "metadata": {},
   "source": [
    "Basically, here we calculate the ernergy derivative follows eqa.6 - eqa.22 in ref https://journals.aps.org/prresearch/abstract/10.1103/PhysRevResearch.4.043210:\n",
    "1. using pyscf to get the derivative of several function e.g. overlap, one/two-body integral, etc. in AO basis.\n",
    "2. reshape the above one into the shape want we expect, e.g. (#atoms, 3, 2#MO, 2#MO) for overlap/one integral, and (#atoms, 3, 2#MO, 2#MO, 2#MO, 2#MO) for two-body integral.\n",
    "3. using einsum to get the derivatives in MO basis.\n",
    "4. using the derivatives in MO basis to obtain force operator.\n",
    "5. using Hellmann-Feynman theorem to get energy derivative."
   ]
  },
  {
   "cell_type": "code",
   "execution_count": 23,
   "metadata": {},
   "outputs": [],
   "source": [
    "from pyscf import gto, scf, dft, lib, grad\n",
    "import numpy as np\n",
    "import qib\n",
    "import scipy.sparse"
   ]
  },
  {
   "cell_type": "code",
   "execution_count": 3,
   "metadata": {},
   "outputs": [],
   "source": [
    "#position: 0.735A\n",
    "atom = '''H 0 0 0; H 0 0 0.735/lib.param.BOHR'''\n",
    "#atom = '''H 0 0 0; H 0 0 0.735'''\n",
    "basis = 'sto-3g'\n",
    "#basis =\"6-31G\"\n",
    "unit = 'Bohr'\n",
    "#unit = 'A'\n",
    "charge = 0\n",
    "spin = 0\n",
    "verbose = 0\n",
    "\n",
    "mol = gto.Mole()\n",
    "mol.build(atom    = atom,\n",
    "          basis   = basis,\n",
    "          charge  = charge,\n",
    "          spin    = spin,\n",
    "          unit    = unit,\n",
    "          verbose = verbose)\n",
    "\n",
    "nmo, nao, natm = mol.nao, mol.nao, mol.natm"
   ]
  },
  {
   "attachments": {},
   "cell_type": "markdown",
   "metadata": {},
   "source": [
    "Do RHF and obtain the AO -> MO coeff:"
   ]
  },
  {
   "cell_type": "code",
   "execution_count": 4,
   "metadata": {},
   "outputs": [],
   "source": [
    "mf = scf.RHF(mol)\n",
    "mf.kernel()\n",
    "coeff = mf.mo_coeff\n",
    "spin_coeff = np.kron(coeff, np.identity(2))"
   ]
  },
  {
   "attachments": {},
   "cell_type": "markdown",
   "metadata": {},
   "source": [
    "Some parameters:\n",
    "$$ h_{\\mu \\nu} = \\langle \\mu | h|\\nu \\rangle  $$\n",
    "$$ g_{\\mu \\nu \\lambda \\sigma} = \\langle \\mu \\nu | \\frac{1}{r_{12}}|\\lambda \\sigma \\rangle  $$\n",
    "$$ S_{\\mu \\nu} =  \\langle \\mu |\\nu \\rangle  $$\n",
    "In MO basis:\n",
    "$$ h_{pq} = \\sum_{\\mu \\nu} C_{\\mu p} C_{\\nu q} h_{\\mu \\nu}    $$\n",
    "$$ g_{pqrs} =  \\sum_{\\mu \\nu} C_{\\mu p} C_{\\nu q} C_{\\lambda r} C_{\\sigma s} g_{\\mu \\nu \\lambda \\sigma}    $$\n",
    "Attention that the values of $g$ may differ in different packages/papers."
   ]
  },
  {
   "cell_type": "code",
   "execution_count": 5,
   "metadata": {},
   "outputs": [],
   "source": [
    "h0 = mol.get_enuc()\n",
    "\n",
    "h1 = np.kron(mol.get_hcore(), np.identity(2))\n",
    "g = mol.intor(\"int2e_spinor\")\n",
    "S = mol.intor(\"int1e_ovlp\")\n",
    "\n",
    "h1_MO = np.einsum('up,vq,uv -> pq', spin_coeff, spin_coeff, h1)\n",
    "g_MO = np.einsum('pqrs,pi,qj,rk,sl->ijkl', g, spin_coeff, spin_coeff, spin_coeff, spin_coeff)"
   ]
  },
  {
   "attachments": {},
   "cell_type": "markdown",
   "metadata": {},
   "source": [
    "Second quantization form:\n",
    "$$\n",
    "H = \\sum_{pq} h_{pq} a_p^\\dagger a_q  + \\frac{1}{2} \\sum_{pqrs} g_{pqrs}  a_p^\\dagger a_r^\\dagger a_s a_q \n",
    "$$ \n",
    "Attention the order of subscripts. We can get the correct ground energy by solving this Hamiltonian.\n"
   ]
  },
  {
   "cell_type": "code",
   "execution_count": 26,
   "metadata": {},
   "outputs": [
    {
     "name": "stdout",
     "output_type": "stream",
     "text": [
      "-1.1373060357533993\n",
      "the result is same as the one in qiskit\n"
     ]
    }
   ],
   "source": [
    "latt = qib.lattice.LayeredLattice(qib.lattice.FullyConnectedLattice((2,)), 2)\n",
    "field = qib.field.Field(qib.field.ParticleType.FERMION, latt)\n",
    "\n",
    "#attention!!! The qib.operator.MolecularHamiltonian function used here is now different from the one in github\n",
    "#basically, we remove the switch transpose((0, 1, 3, 2), so that we  can define the switch by ourselves.\n",
    "\n",
    "H = qib.operator.MolecularHamiltonian(field, h0, h1_MO, g_MO.transpose(0,2,3,1)).as_matrix().toarray()\n",
    "e, v = np.linalg.eigh(H)\n",
    "e_ground = e[0]\n",
    "v_ground = v[:, 0]\n",
    "print(e_ground)\n",
    "print(\"the result is same as the one in qiskit\")"
   ]
  },
  {
   "attachments": {},
   "cell_type": "markdown",
   "metadata": {},
   "source": [
    "This result is the same as the one given in https://qiskit.org/documentation/nature/tutorials/01_electronic_structure.html"
   ]
  },
  {
   "attachments": {},
   "cell_type": "markdown",
   "metadata": {},
   "source": [
    "Attention: depending on convention, sometimes we do not have the factor $\\frac{1}{2}$ in the Hamiltonian, e.g. the definition in the reveiw https://journals.aps.org/prresearch/abstract/10.1103/PhysRevResearch.4.043210 . In this case, we should use $g/2$, which means half of the $g$ we obtained above. Due to the reason that we will follow the equations in this paper, we will scale all the values using $g$."
   ]
  },
  {
   "attachments": {},
   "cell_type": "markdown",
   "metadata": {},
   "source": [
    "To calculate the energy dirivative, we have: \n",
    "$$\n",
    "\\frac{dH}{dR_A} = \\sum_{pq} a_p^\\dagger a_q (\\frac{dh_{pq}}{dR_A} - \\sum_m h_{mq} \\frac{dS_{mp}}{dR_A} ) + \\sum_{pqrs} a_p^\\dagger a_r^\\dagger a_q a_s (\\frac{dg_{pqrs}}{dR_A} - 2\\sum_t g_{tqrs} \\frac{dS_{tp}}{dR_A}  )\n",
    "$$\n",
    "all the terms are written in MO basis, and we will calculate them term by term. (still attention that all the $g$ and $g/2$ here is half of the values we obtained from pyscf, and we we scale related values in the calculation.)\n",
    "\n",
    "First, the derivative of overlap matrix in MO basis: $$\\frac{dS_{pq}}{dR_A} =  \\sum_{\\mu \\nu} C_{\\mu p} C_{\\nu q} \\frac{dS_{\\mu \\nu}}{dR_A}         $$\n",
    "The definition of the derivative is defined in the paper https://journals.aps.org/prresearch/abstract/10.1103/PhysRevResearch.4.043210. Here we do not discuss the derivation and Physics intuition inside (even though it is interesting).\n",
    "\n",
    "\n",
    "First we should calculate overlap matrix $S_{\\mu \\nu} = \\langle \\mu | \\nu \\rangle $ . What the int1e_ovlp in the pyscf give us is $S(\\mu, \\nu) = \\langle \\partial \\mu | \\nu \\rangle $, which stands for how the overlap will change if you move the cordinate slight instead of moving the atom.\n",
    "\n",
    "So that calculation of derivative of overlap matrix is (move the atom slightly, the change of S):\n",
    "\n",
    "$$\n",
    "\\frac{dS_{\\mu \\nu}}{dR_A} = -\\langle \\partial \\mu | \\nu \\rangle \n",
    "$$\n",
    "Due to the sysmmetry of S matrix, the derivative matrix should also be symmetric:\n",
    "$$\n",
    "\\frac{dS_{\\nu \\mu}}{dR_A} = \\frac{dS_{\\mu \\nu}}{dR_A} = -\\langle \\partial \\mu | \\nu \\rangle \n",
    "$$\n",
    "if both of the orbitals does (or not) corresponds to the atom A, then:\n",
    "$$\n",
    "\\frac{dS_{\\mu \\nu}}{dR_A} = 0\n",
    "$$\n",
    "Also, we should reshape the whole thing into the dimension (# of atoms, 3, # of AO orbitals, # of AO orbitals)."
   ]
  },
  {
   "cell_type": "code",
   "execution_count": 7,
   "metadata": {},
   "outputs": [
    {
     "name": "stdout",
     "output_type": "stream",
     "text": [
      "(2, 3, 4, 4)\n"
     ]
    }
   ],
   "source": [
    "S = mol.intor(\"int1e_ovlp\")\n",
    "dS = mol.intor(\"int1e_ipovlp\")\n",
    "\n",
    "dS_reshape = np.zeros([natm, 3, nmo, nmo])\n",
    "#what we do here is slice the matrix according to atoms, we should use mol.aoslice_by_atom()\n",
    "#print(mol.aoslice_by_atom())\n",
    "aoslice = mol.aoslice_by_atom()\n",
    "#specify it on a atom\n",
    "for i in range (natm):\n",
    "        startingpoint = 0\n",
    "        if i != 0:\n",
    "         startingpoint = aoslice[i-1, 3]\n",
    "        #get direction:\n",
    "        for j in range(3):\n",
    "            #get AO indices:\n",
    "            #reshape:\n",
    "            dS_reshape[i, j, startingpoint:aoslice[i, 3], :] = -dS[j, startingpoint:aoslice[i, 3], :]\n",
    "            #dS_reshape[i, j, :, startingpoint:aoslice[i, 3]] = dS[j, :, startingpoint:aoslice[i, 3]]\n",
    "            \n",
    "dS_reshape += dS_reshape.swapaxes(-1, -2)\n",
    "#get function of spin\n",
    "dS_reshape = np.kron(dS_reshape, np.identity(2))\n",
    "\n",
    "print(dS_reshape.shape)"
   ]
  },
  {
   "attachments": {},
   "cell_type": "markdown",
   "metadata": {},
   "source": [
    "Then we can calculate the derivative of overlap matrix in MO basis: $$\\frac{dS_{pq}}{dR_A} =  \\sum_{\\mu \\nu} C_{\\mu p} C_{\\nu q} \\frac{dS_{\\mu \\nu}}{dR_A}         $$"
   ]
  },
  {
   "cell_type": "code",
   "execution_count": 8,
   "metadata": {},
   "outputs": [
    {
     "name": "stdout",
     "output_type": "stream",
     "text": [
      "(2, 3, 4, 4)\n"
     ]
    }
   ],
   "source": [
    "dS_MO = np.zeros([natm, 3, 2*nao, 2*nao])\n",
    "\n",
    "for i in range (natm):\n",
    "    for j in range (3):\n",
    "        dS_MO[i, j, :, :] = np.einsum('up, vq, uv -> pq', spin_coeff, spin_coeff, dS_reshape[i, j, :, :])\n",
    "\n",
    "print(dS_MO.shape)"
   ]
  },
  {
   "attachments": {},
   "cell_type": "markdown",
   "metadata": {},
   "source": [
    "Further, we should calculate $\\frac{dh_{pq}}{dR_A}$:\n",
    "$$\\frac{dh_{pq}}{dR_A} =  \\sum_{uv} C_{\\mu p} C_{\\nu q} \\frac{h_{\\mu \\nu} }{dR_A}$$ \n",
    "\n",
    "where $h_{pq}$ is in the MO basis and $h_{\\mu \\nu}$ is in the AO basis.\n",
    "\n",
    "However, the  calculation of $\\frac{dh_{\\mu \\nu}}{dR_A} $ is not a  trivial task. Basicly, \n",
    "$$\n",
    "h = h_{kin} + h_{nuc}\n",
    "$$\n",
    "so that \n",
    "$$\n",
    "\\frac{dh}{dR_A} = \\frac{dh_{kin}}{dR_A} + \\frac{dh_{nuc}}{dR_A} \n",
    "$$\n",
    "Calculation the first term $\\frac{dh_{kin}}{dR_A}$ from pyscf is a trivial task, which  is  similar  with the  calculation  of derivation of overlap matrix before. \n",
    "\n",
    "But for the second term $\\frac{dh_{nuc}}{dR_A} $, due to $ \\langle \\mu | \\frac{dh_{nuc}}{dR_A} | \\nu \\rangle \\neq 0$, we should use some tricks to calculate this term.\n",
    "\n",
    "Calculate $\\frac{dh_{kin}}{dR_A}$ first (in AO basis):\n"
   ]
  },
  {
   "cell_type": "code",
   "execution_count": 9,
   "metadata": {},
   "outputs": [],
   "source": [
    "hkin = mol.intor(\"int1e_kin\")\n",
    "dhkin = mol.intor(\"int1e_ipkin\")\n",
    "\n",
    "dhkin_reshape = np.zeros([natm, 3, nmo, nmo])\n",
    "\n",
    "for i in range (natm):\n",
    "        startingpoint = 0\n",
    "        if i != 0:\n",
    "         startingpoint = aoslice[i-1, 3]\n",
    "       \n",
    "        for j in range(3):\n",
    "            dhkin_reshape[i, j, startingpoint:aoslice[i, 3], :] = -dhkin[j, startingpoint:aoslice[i, 3], :]\n",
    "            \n",
    "dhkin_reshape += dhkin_reshape.swapaxes(-1, -2)\n",
    "\n",
    "dhkin_reshape = np.kron(dhkin_reshape, np.identity(2))"
   ]
  },
  {
   "attachments": {},
   "cell_type": "markdown",
   "metadata": {},
   "source": [
    "The calculation of $\\frac{dh_{nuc}}{dR_A}$ is not a trivial task. first we have:\n",
    "$$\n",
    "\\frac{dh_{nuc}}{dR_A} (\\mu, \\nu) = -\\langle \\partial \\mu|h_{nuc} | \\nu \\rangle  -\\langle  \\mu|h_{nuc} | \\partial \\nu \\rangle + \\langle  \\mu|\\partial h_{nuc} | \\nu \\rangle \n",
    "$$\n",
    "We implement the first two terms:"
   ]
  },
  {
   "cell_type": "code",
   "execution_count": 10,
   "metadata": {},
   "outputs": [],
   "source": [
    "#first part\n",
    "hnuc = mol.intor(\"int1e_nuc\")\n",
    "\n",
    "dhnuc1 = mol.intor(\"int1e_ipnuc\")\n",
    "dhnuc1_reshape = np.zeros([natm, 3, nmo, nmo])\n",
    "\n",
    "for i in range (natm):\n",
    "        startingpoint = 0\n",
    "        if i != 0:\n",
    "         startingpoint = aoslice[i-1, 3]\n",
    "        for j in range(3):\n",
    "            dhnuc1_reshape[i, j, startingpoint:aoslice[i, 3], :] = -dhnuc1[j, startingpoint:aoslice[i, 3], :]\n",
    "            \n",
    "dhnuc1_reshape += dhnuc1_reshape.swapaxes(-1, -2)\n",
    "dhnuc1_reshape = np.kron(dhnuc1_reshape, np.identity(2))"
   ]
  },
  {
   "attachments": {},
   "cell_type": "markdown",
   "metadata": {},
   "source": [
    "Then we calculate $\\langle  \\mu|\\partial h_{nuc} | \\nu \\rangle $."
   ]
  },
  {
   "cell_type": "code",
   "execution_count": 11,
   "metadata": {},
   "outputs": [],
   "source": [
    "#second part\n",
    "\n",
    "dhnuc2_reshape = np.zeros((natm, 3, nao, nao))\n",
    "Z = mol.atom_charges()\n",
    "for i in range(natm):\n",
    "    with mol.with_rinv_as_nucleus(i):\n",
    "        dhnuc2_reshape[i] -= Z[i] * mol.intor(\"int1e_iprinv\")\n",
    "\n",
    "dhnuc2_reshape += dhnuc2_reshape.swapaxes(-1, -2)\n",
    "dhnuc2_reshape = np.kron(dhnuc2_reshape, np.identity(2))\n",
    "\n",
    "dhnuc_reshape =  dhnuc1_reshape + dhnuc2_reshape \n",
    "\n",
    "dh1_reshape = dhkin_reshape + dhnuc_reshape"
   ]
  },
  {
   "cell_type": "code",
   "execution_count": 12,
   "metadata": {},
   "outputs": [],
   "source": [
    "dh1_reshape = dhkin_reshape + dhnuc_reshape"
   ]
  },
  {
   "attachments": {},
   "cell_type": "markdown",
   "metadata": {},
   "source": [
    "Then use  $\\frac{dh_{pq}}{dR_A} = \\sum_{uv} C_{\\mu p} C_{\\nu q} \\frac{dh_{\\mu \\nu}}{dR_A}  $ to calculate $\\frac{dh_{pq}}{dR_A}$:"
   ]
  },
  {
   "cell_type": "code",
   "execution_count": 13,
   "metadata": {},
   "outputs": [
    {
     "name": "stdout",
     "output_type": "stream",
     "text": [
      "(2, 3, 4, 4)\n"
     ]
    }
   ],
   "source": [
    "dh1_MO = np.zeros([natm, 3, 2*nao, 2*nao])\n",
    "\n",
    "for i in range (natm):\n",
    "    for j in range (3):\n",
    "        dh1_MO[i, j, :, :] = np.einsum('up, vq, uv -> pq', spin_coeff, spin_coeff, dh1_reshape[i, j, :, :])\n",
    "\n",
    "print(dh1_MO.shape)"
   ]
  },
  {
   "attachments": {},
   "cell_type": "markdown",
   "metadata": {},
   "source": [
    "Calculation of  $\\frac{dg_{pqrs}}{dR_A}$ is relatively trivial:\n",
    "$$\n",
    "\\frac{dg_{pqrs}}{dR_A} = \\sum_{\\mu \\nu \\lambda \\sigma} C_{\\mu p} C_{\\nu q} C_{\\lambda r} C_{\\sigma s} \\frac{dg_{\\mu \\nu \\lambda \\sigma}}{dR_A}  \n",
    "$$\n",
    "First, we should get the $\\frac{dg_{\\mu \\nu \\lambda \\sigma}}{dR_A}$ in correct shape (#atoms, 3, 2#AO, 2#AO, 2#AO, 2#AO):"
   ]
  },
  {
   "cell_type": "code",
   "execution_count": 14,
   "metadata": {},
   "outputs": [
    {
     "data": {
      "text/plain": [
       "(2, 3, 2, 2, 2, 2)"
      ]
     },
     "execution_count": 14,
     "metadata": {},
     "output_type": "execute_result"
    }
   ],
   "source": [
    "dg = mol.intor(\"int2e_ip1\")\n",
    "\n",
    "dg_reshape = np.zeros((natm, 3, nao, nao, nao, nao))\n",
    "\n",
    "for i in range (natm):\n",
    "    startingpoint = 0\n",
    "    if i != 0:\n",
    "        startingpoint = aoslice[i-1, 3]\n",
    "    for j in range(3):\n",
    "        dg_reshape[i, j, startingpoint:aoslice[i, 3], :, :, :] = -dg [j, startingpoint:aoslice[i, 3], :, :, :]\n",
    "   \n",
    "dg_reshape += dg_reshape.swapaxes(-3, -4)\n",
    "dg_reshape += dg_reshape.swapaxes(-1, -3).swapaxes(-2, -4)\n",
    "dg_reshape.shape\n"
   ]
  },
  {
   "cell_type": "code",
   "execution_count": 15,
   "metadata": {},
   "outputs": [],
   "source": [
    "test_reshape_temp = np.zeros([natm, 3,nmo,nmo,2*nmo,2*nmo])\n",
    "\n",
    "for i in range (natm):\n",
    "    for j in range(3):\n",
    "        for k in range (nmo):\n",
    "            for l in range (nmo):\n",
    "                test_reshape_temp[i, j, k, l, :, :] = np.kron(dg_reshape[i, j, k, l, :, :], np.identity(2))\n",
    "\n",
    "test_reshape_temp1 = np.zeros([natm, 3,2*nmo,2*nmo,2*nmo,2*nmo])\n",
    "\n",
    "for i in range (natm):\n",
    "    for j in  range(3):\n",
    "        for k in range (2*nmo):\n",
    "            for l in range (2*nmo):\n",
    "                test_reshape_temp1[i, j, :, :, k, l] = np.kron(test_reshape_temp[i, j, :, :, k, l], np.identity(2))\n",
    "\n",
    "\n",
    "\n",
    "dg_reshape_spinor = test_reshape_temp1"
   ]
  },
  {
   "attachments": {},
   "cell_type": "markdown",
   "metadata": {},
   "source": [
    "Then calculate $\\frac{dg_{pqrs}}{dR_A}  $  by:\n",
    "$$\n",
    "\\frac{dg_{pqrs}}{dR_A} = \\sum_{\\mu \\nu \\lambda \\sigma} C_{\\mu p} C_{\\nu q} C_{\\lambda r} C_{\\sigma s} \\frac{dg_{\\mu \\nu \\lambda \\sigma}}{dR_A}  \n",
    "\n",
    "$$"
   ]
  },
  {
   "cell_type": "code",
   "execution_count": 16,
   "metadata": {},
   "outputs": [
    {
     "data": {
      "text/plain": [
       "(2, 3, 4, 4, 4, 4)"
      ]
     },
     "execution_count": 16,
     "metadata": {},
     "output_type": "execute_result"
    }
   ],
   "source": [
    "dg_MO = np.einsum('up, vq, xr, os, abuvxo ->  abpqrs', spin_coeff, spin_coeff, spin_coeff, spin_coeff, dg_reshape_spinor )\n",
    "dg_MO.shape"
   ]
  },
  {
   "attachments": {},
   "cell_type": "markdown",
   "metadata": {},
   "source": [
    "Now, we have all the terms needed. Let's have a look at the energy derivation operator:\n",
    "$$\n",
    "\\frac{dH}{dR_A} = \\sum_{pq} a_p^\\dagger a_q (\\frac{dh_{pq}}{dR_A} - \\sum_m h_{mq} \\frac{dS_{mp}}{dR_A} ) + \\sum_{pqrs} a_p^\\dagger a_r^\\dagger a_q a_s (\\frac{dg_{pqrs}}{dR_A} - 2\\sum_t g_{tqrs} \\frac{dS_{tp}}{dR_A}  )\n",
    "$$"
   ]
  },
  {
   "cell_type": "code",
   "execution_count": 17,
   "metadata": {},
   "outputs": [
    {
     "name": "stdout",
     "output_type": "stream",
     "text": [
      "energy derivative alone the bond (0.9797791720893388+0j) Hatree \\ A\n"
     ]
    }
   ],
   "source": [
    "dH1_term1 = dh1_MO[1,2,:,:]\n",
    "dH1_term2 = np.einsum('mq, mp -> pq', h1_MO, dS_MO[1,2,:,:])\n",
    "dH1 = dH1_term1 - dH1_term2\n",
    "\n",
    "dH2_term1 = dg_MO[1,2,:,:,:,:]\n",
    "dH2_term2 = 2*np.einsum('tqrs, tp -> pqrs', g_MO, dS_MO[1,2,:,:])\n",
    "dH2 = dH2_term1 - dH2_term2\n",
    "\n",
    "dH_test = qib.operator.MolecularHamiltonian(field, 0, dH1, dH2.transpose(0,2,3,1)).as_matrix().toarray()\n",
    "\n",
    "#convert to unit: Hatree/A\n",
    "print('energy derivative alone the bond', np.vdot(v_ground, dH_test.dot(v_ground))/lib.param.BOHR, 'Hatree \\ A')"
   ]
  },
  {
   "attachments": {},
   "cell_type": "markdown",
   "metadata": {},
   "source": [
    "To verify this result, we make use of density matrices to obtain a ref value. \n",
    "First, we have \n",
    "$$\n",
    "\\frac{dE}{dR_A} = \\sum_{pq} \\gamma _{pq} \\frac{dh_{pq}}{dx} + \\sum_{pqrs} \\Gamma _{pqrs} \\frac{dg_{pqrs}}{dx} - (\\sum_{pqm} \\gamma _{pq} h_{mq}\\frac{dS_{mp}}{dx}  +  \\sum_{pqrst} \\Gamma _{pqrs} g_{tqrs}\\frac{S_{tp}}{dx} )\n",
    "$$"
   ]
  },
  {
   "attachments": {},
   "cell_type": "markdown",
   "metadata": {},
   "source": [
    "We first obtain $\\gamma _{pq}$"
   ]
  },
  {
   "cell_type": "code",
   "execution_count": 18,
   "metadata": {},
   "outputs": [
    {
     "name": "stdout",
     "output_type": "stream",
     "text": [
      "[[9.87559734e-01 0.00000000e+00 5.55434245e-17 0.00000000e+00]\n",
      " [0.00000000e+00 9.87559734e-01 0.00000000e+00 5.55434245e-17]\n",
      " [5.55434245e-17 0.00000000e+00 1.24402656e-02 0.00000000e+00]\n",
      " [0.00000000e+00 5.55434245e-17 0.00000000e+00 1.24402656e-02]]\n"
     ]
    },
    {
     "name": "stderr",
     "output_type": "stream",
     "text": [
      "/var/folders/q5/4z76qrr523xby7str3mxbjs00000gn/T/ipykernel_83046/649550118.py:8: ComplexWarning: Casting complex values to real discards the imaginary part\n",
      "  RDM_test[i,j] = (np.vdot(v_ground, test_op@v_ground))\n"
     ]
    }
   ],
   "source": [
    "RDM_test = np.zeros([4,4])\n",
    "test2 = np.zeros([4,4,4,4])\n",
    "for i in range(4):\n",
    "    for j in range(4):\n",
    "        test1 = np.zeros([4,4])\n",
    "        test1[i,j] = 1\n",
    "        test_op = qib.operator.MolecularHamiltonian(field, 0, test1, test2).as_matrix().toarray()\n",
    "        RDM_test[i,j] = (np.vdot(v_ground, test_op@v_ground))\n",
    "print(RDM_test)"
   ]
  },
  {
   "attachments": {},
   "cell_type": "markdown",
   "metadata": {},
   "source": [
    "and then  $\\Gamma _{pqrs}$"
   ]
  },
  {
   "cell_type": "code",
   "execution_count": 19,
   "metadata": {},
   "outputs": [
    {
     "name": "stderr",
     "output_type": "stream",
     "text": [
      "/var/folders/q5/4z76qrr523xby7str3mxbjs00000gn/T/ipykernel_83046/3170953354.py:11: ComplexWarning: Casting complex values to real discards the imaginary part\n",
      "  RDM2_test[p,q,r,s] = (np.vdot(v_ground, test_op@v_ground))\n"
     ]
    }
   ],
   "source": [
    "test1 = np.zeros([4,4])\n",
    "RDM2_test = np.zeros([4,4,4,4])\n",
    "for p in range(4):\n",
    "    for q in range(4):\n",
    "        for r in range(4):\n",
    "            for s in range(4):\n",
    "                test2 = np.zeros([4,4,4,4])\n",
    "                test2[p,r,s,q] = 1\n",
    "\n",
    "                test_op = qib.operator.MolecularHamiltonian(field, 0, test1, 2*test2).as_matrix().toarray()\n",
    "                RDM2_test[p,q,r,s] = (np.vdot(v_ground, test_op@v_ground))"
   ]
  },
  {
   "attachments": {},
   "cell_type": "markdown",
   "metadata": {},
   "source": [
    "using the density matrices to calculate the value:"
   ]
  },
  {
   "cell_type": "code",
   "execution_count": 24,
   "metadata": {},
   "outputs": [
    {
     "name": "stdout",
     "output_type": "stream",
     "text": [
      "energy derivative alone the bond (0.9797791720893391+0j) Hatree \\ A\n"
     ]
    }
   ],
   "source": [
    "dE1_term1 = np.sum(RDM_test*dh1_MO[1,2,:,:]) \n",
    "dE1_term2 = np.sum(RDM2_test*(dg_MO[1,2,:,:,:,:]/2)) \n",
    "\n",
    "dE2_term1 = np.sum(RDM_test*(np.einsum('mq, mp -> pq', h1_MO, dS_MO[1,2,:,:])))\n",
    "dE2_term2 = 2*np.sum(RDM2_test*(np.einsum('tqrs, tp -> pqrs', g_MO/2, dS_MO[1,2,:,:])))\n",
    "\n",
    "#convert to unit: Hatree/A\n",
    "print('energy derivative alone the bond', (dE1_term1 + dE1_term2 - dE2_term1 - dE2_term2)/lib.param.BOHR, 'Hatree \\ A')\n",
    "\n"
   ]
  },
  {
   "attachments": {},
   "cell_type": "markdown",
   "metadata": {},
   "source": [
    "We have some test of the functions.... (in another file)"
   ]
  },
  {
   "cell_type": "code",
   "execution_count": null,
   "metadata": {},
   "outputs": [],
   "source": []
  }
 ],
 "metadata": {
  "kernelspec": {
   "display_name": "base",
   "language": "python",
   "name": "python3"
  },
  "language_info": {
   "codemirror_mode": {
    "name": "ipython",
    "version": 3
   },
   "file_extension": ".py",
   "mimetype": "text/x-python",
   "name": "python",
   "nbconvert_exporter": "python",
   "pygments_lexer": "ipython3",
   "version": "3.8.13"
  },
  "orig_nbformat": 4,
  "vscode": {
   "interpreter": {
    "hash": "2778dcfafe32be17d7583118ddbefa74f34e4c202061ee3eaf97f1225daf2f59"
   }
  }
 },
 "nbformat": 4,
 "nbformat_minor": 2
}
